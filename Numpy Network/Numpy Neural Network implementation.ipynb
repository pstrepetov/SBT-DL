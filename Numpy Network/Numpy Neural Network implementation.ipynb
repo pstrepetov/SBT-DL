{
 "cells": [
  {
   "cell_type": "code",
   "execution_count": 1,
   "metadata": {
    "colab": {
     "base_uri": "https://localhost:8080/"
    },
    "executionInfo": {
     "elapsed": 1239,
     "status": "ok",
     "timestamp": 1645024750390,
     "user": {
      "displayName": "Олег Дмитриевич Сомов",
      "photoUrl": "https://lh3.googleusercontent.com/a/default-user=s64",
      "userId": "03877505905935419968"
     },
     "user_tz": -180
    },
    "id": "Qi-mWBPrGQyF",
    "outputId": "4957249e-c8c1-40ce-b5ae-9f0473ff84b3"
   },
   "outputs": [
    {
     "name": "stdout",
     "output_type": "stream",
     "text": [
      "Populating the interactive namespace from numpy and matplotlib\n"
     ]
    }
   ],
   "source": [
    "import numpy as np\n",
    "import matplotlib.pylab as plt\n",
    "from sklearn.datasets import load_digits, fetch_openml\n",
    "from sklearn.model_selection import train_test_split\n",
    "from sklearn.preprocessing import OneHotEncoder\n",
    "import pandas as pd\n",
    "from IPython.display import clear_output\n",
    "import matplotlib.pylab as plt\n",
    "import warnings\n",
    "\n",
    "np.random.seed(42)\n",
    "\n",
    "warnings.filterwarnings('ignore')\n",
    "%pylab inline"
   ]
  },
  {
   "cell_type": "markdown",
   "metadata": {
    "id": "vAMFWWr-ifiw"
   },
   "source": [
    "### Загрузка данных - \n",
    "\n",
    "Загрузим простую версию MNIST(8 * 8) или MNIST (28*28)"
   ]
  },
  {
   "cell_type": "code",
   "execution_count": 2,
   "metadata": {
    "id": "6I8H5bzLd3hA"
   },
   "outputs": [],
   "source": [
    "#8 * 8\n",
    "# digits= load_digits()\n",
    "# mnist_data, mnist_labels = digits.data, digits.target\n",
    "\n",
    "#28 * 28\n",
    "mnist_data, mnist_labels = fetch_openml('mnist_784', version=1, return_X_y=True)\n",
    "mnist_data = np.array(mnist_data)\n",
    "mnist_labels = np.array(mnist_labels).astype(int)"
   ]
  },
  {
   "cell_type": "code",
   "execution_count": 3,
   "metadata": {
    "colab": {
     "base_uri": "https://localhost:8080/"
    },
    "executionInfo": {
     "elapsed": 13,
     "status": "ok",
     "timestamp": 1645030216437,
     "user": {
      "displayName": "Олег Дмитриевич Сомов",
      "photoUrl": "https://lh3.googleusercontent.com/a/default-user=s64",
      "userId": "03877505905935419968"
     },
     "user_tz": -180
    },
    "id": "oTn0uRFTsu95",
    "outputId": "4ba84a4c-b8b5-4328-8b18-8a8218ec5475"
   },
   "outputs": [
    {
     "name": "stdout",
     "output_type": "stream",
     "text": [
      "Image Data Shape (70000, 784)\n",
      "Label Data Shape (70000,)\n"
     ]
    }
   ],
   "source": [
    "print(\"Image Data Shape\" ,mnist_data.shape)\n",
    "print(\"Label Data Shape\", mnist_labels.shape)"
   ]
  },
  {
   "cell_type": "code",
   "execution_count": 4,
   "metadata": {
    "colab": {
     "base_uri": "https://localhost:8080/",
     "height": 283
    },
    "executionInfo": {
     "elapsed": 1069,
     "status": "ok",
     "timestamp": 1645030217504,
     "user": {
      "displayName": "Олег Дмитриевич Сомов",
      "photoUrl": "https://lh3.googleusercontent.com/a/default-user=s64",
      "userId": "03877505905935419968"
     },
     "user_tz": -180
    },
    "id": "2qaK_rTgs80F",
    "outputId": "0298a6b6-c5c0-4615-f7f6-5390c49aa130"
   },
   "outputs": [
    {
     "data": {
      "image/png": "[encoded data removed]",
      "text/plain": [
       "<Figure size 2000x400 with 5 Axes>"
      ]
     },
     "metadata": {},
     "output_type": "display_data"
    }
   ],
   "source": [
    "plt.figure(figsize=(20,4))\n",
    "for index, (image, label) in enumerate(zip(mnist_data[:5, :], mnist_labels[:5])):\n",
    "    plt.subplot(1, 5, index + 1)\n",
    "    image = np.array(image).reshape(28,28)\n",
    "    plt.imshow(image, cmap=plt.cm.gray)\n",
    "    plt.title('Training: %i\\n' % label, fontsize = 20)"
   ]
  },
  {
   "cell_type": "markdown",
   "metadata": {
    "id": "_9ZfIx4oixfw"
   },
   "source": [
    "Данные стоит нормализовать перед работой."
   ]
  },
  {
   "cell_type": "code",
   "execution_count": 5,
   "metadata": {
    "id": "O46hBrHqen1s"
   },
   "outputs": [],
   "source": [
    "mnist_data = (mnist_data/255).astype('float32')"
   ]
  },
  {
   "cell_type": "markdown",
   "metadata": {
    "id": "pwgjeya2i24J"
   },
   "source": [
    "Разобьем нашу выборку на train, val, test."
   ]
  },
  {
   "cell_type": "code",
   "execution_count": 6,
   "metadata": {
    "colab": {
     "base_uri": "https://localhost:8080/"
    },
    "executionInfo": {
     "elapsed": 1052,
     "status": "ok",
     "timestamp": 1645024834011,
     "user": {
      "displayName": "Олег Дмитриевич Сомов",
      "photoUrl": "https://lh3.googleusercontent.com/a/default-user=s64",
      "userId": "03877505905935419968"
     },
     "user_tz": -180
    },
    "id": "IiSkgsQKtBBU",
    "outputId": "b07c38e6-4a92-4b7e-9c7c-0b0b0b45665f"
   },
   "outputs": [
    {
     "name": "stdout",
     "output_type": "stream",
     "text": [
      "(52500, 784) (13125, 784) (4375, 784)\n"
     ]
    }
   ],
   "source": [
    "x_train, x_test, y_train, y_test = train_test_split(mnist_data, mnist_labels, test_size=0.25, random_state=0)\n",
    "x_val, x_test, y_val, y_test = train_test_split(x_test, y_test, test_size=0.25, random_state=0)\n",
    "\n",
    "print(x_train.shape, x_val.shape, x_test.shape)"
   ]
  },
  {
   "cell_type": "markdown",
   "metadata": {
    "id": "1UUNjNoEi6p5"
   },
   "source": [
    "В задачах DL принято пользоваться потоковой подачей данных в модель(чтобы не тратить время на чтение датасета с диска) - поэтом реализуем класс BatchLoader с генератором, который будет быстро подавать данные в модель из RAM."
   ]
  },
  {
   "cell_type": "code",
   "execution_count": 7,
   "metadata": {
    "colab": {
     "base_uri": "https://localhost:8080/"
    },
    "executionInfo": {
     "elapsed": 314,
     "status": "ok",
     "timestamp": 1645029430423,
     "user": {
      "displayName": "Олег Дмитриевич Сомов",
      "photoUrl": "https://lh3.googleusercontent.com/a/default-user=s64",
      "userId": "03877505905935419968"
     },
     "user_tz": -180
    },
    "id": "ezoBRtuYt26P",
    "outputId": "a8cd47e7-3fdd-4480-cb85-daabff1d1f93"
   },
   "outputs": [
    {
     "name": "stdout",
     "output_type": "stream",
     "text": [
      "(16, 784) (16, 10) 3282\n"
     ]
    }
   ],
   "source": [
    "class BatchLoader:\n",
    "  def __init__(self, data, target, batch_size):\n",
    "    self.oh_encoder = OneHotEncoder()\n",
    "    self.data = data\n",
    "    self.target = self.oh_encoder.fit_transform(target.reshape(-1,1)).toarray()\n",
    "    self.batch_size = batch_size\n",
    "    self.idx = 0\n",
    "\n",
    "  def __len__(self):\n",
    "    batch_amount = self.data.shape[0] // self.batch_size\n",
    "    if batch_amount * self.batch_size < len(self.data):\n",
    "      batch_amount += 1\n",
    "    return batch_amount\n",
    "\n",
    "  def __call__(self):\n",
    "    data_batch = self.data[self.idx: self.idx + self.batch_size, :]\n",
    "    target_batch = self.target[self.idx: self.idx + self.batch_size, :]\n",
    "    self.idx += self.batch_size\n",
    "    if self.idx >= len(self.data):\n",
    "      self.idx = 0\n",
    "    return data_batch, target_batch\n",
    "\n",
    "def test():\n",
    "  batch_loader = BatchLoader(x_train, y_train, 16)\n",
    "  x,y = batch_loader()\n",
    "  print(x.shape, y.shape, len(batch_loader))\n",
    "\n",
    "\n",
    "test()"
   ]
  },
  {
   "cell_type": "markdown",
   "metadata": {
    "id": "6h7CCE7GsGei"
   },
   "source": [
    "\n",
    "\n",
    "*   Всегда фиксируйте seed перед экспериментами.\n",
    "*   Bias не иниицализируют, инициализируют только веса.\n",
    "*   Помните про SOLID при построении методов модели и не перегружайте класс сети. Не стоит писать полный цил обучения внутри методов класса, лучше вынести в отдельный модуль/функцию.\n",
    "\n",
    "\n",
    "\n",
    "\n",
    "\n",
    "\n"
   ]
  },
  {
   "cell_type": "code",
   "execution_count": 9,
   "metadata": {
    "colab": {
     "base_uri": "https://localhost:8080/"
    },
    "executionInfo": {
     "elapsed": 365,
     "status": "ok",
     "timestamp": 1645029434053,
     "user": {
      "displayName": "Олег Дмитриевич Сомов",
      "photoUrl": "https://lh3.googleusercontent.com/a/default-user=s64",
      "userId": "03877505905935419968"
     },
     "user_tz": -180
    },
    "id": "9suBc98WtLTp",
    "outputId": "b4419d03-e13e-4e01-f906-1cb8a9ce32ed"
   },
   "outputs": [
    {
     "name": "stdout",
     "output_type": "stream",
     "text": [
      "4.812869250403987\n"
     ]
    }
   ],
   "source": [
    "\n",
    "class NeuralNet:\n",
    "  def __init__(self, input_size, hidden_size, output_size, lr):\n",
    "    np.random.seed(42)\n",
    "    self.input_size = input_size\n",
    "    self.hidden_size = hidden_size\n",
    "    self.output_size = output_size\n",
    "    self.lr = lr\n",
    "    #first layer\n",
    "    self.w_1 = np.zeros((self.input_size, self.hidden_size))\n",
    "    self.b_1 = np.zeros((1, self.hidden_size))\n",
    "    #second layer\n",
    "    self.w_2 = np.zeros((self.hidden_size, self.output_size))\n",
    "    self.b_2 = np.zeros((1, self.output_size))\n",
    "    #weights init\n",
    "    self.initialize_weights()\n",
    "\n",
    "  def get_weights(self):\n",
    "    return {\n",
    "        'w_1': self.w_1, \n",
    "        'b_1': self.b_1, \n",
    "        'w_2': self.w_2, \n",
    "        'b_2': self.b_2, \n",
    "    }\n",
    "\n",
    "  def set_weights(self, weights_dict):\n",
    "    self.w_1 = weights_dict['w_1']\n",
    "    self.b_1 = weights_dict['b_1']\n",
    "    self.w_2 = weights_dict['w_2']\n",
    "    self.b_2 = weights_dict['b_2']\n",
    "\n",
    "\n",
    "  def initialize_weights(self):\n",
    "    #first layer\n",
    "    self.w_1 = np.random.randn(*self.w_1.shape) * np.sqrt(1. / self.hidden_size)\n",
    "    #second layer\n",
    "    self.w_2 = np.random.randn(*self.w_2.shape) * np.sqrt(1. / self.output_size)\n",
    "\n",
    "  def softmax(self, x):\n",
    "    e_x = np.exp(x - np.max(x, axis=1).reshape(-1,1))\n",
    "    softmax =  e_x / e_x.sum(axis=1).reshape(-1,1)\n",
    "    return softmax\n",
    "\n",
    "\n",
    "  def forward(self, X):\n",
    "    self.Z_1 = np.dot(X, self.w_1) + self.b_1\n",
    "    self.A_1 = np.maximum(0 , self.Z_1)\n",
    "    self.Z_2 = np.dot(self.A_1, self.w_2) + self.b_2\n",
    "    pred_distr = self.softmax(self.Z_2)\n",
    "    return pred_distr\n",
    "\n",
    "  def loss(self, y_pred, y_true):\n",
    "    entropy_tensor = (y_true * np.log(y_pred)).sum(axis=1)\n",
    "    loss = -np.mean(entropy_tensor)\n",
    "    return loss\n",
    "\n",
    "  def backward(self, X, y_pred, y_true):\n",
    "    n_samples = y_true.shape[0]\n",
    "    dZ_2 = y_pred - y_true\n",
    "\n",
    "    dw_2 = 1/n_samples * np.dot(self.A_1.T, dZ_2)\n",
    "    db_2 = 1/n_samples * (np.sum(dZ_2, axis=0, keepdims=True))\n",
    "    \n",
    "    dA_1 = np.dot(dZ_2, self.w_2.T)\n",
    "    dZ_1 = np.multiply(dA_1, np.int64(self.Z_1 > 0))\n",
    "    \n",
    "    # не забываем делить градиенты на размер батча\n",
    "    dw_1 = 1/n_samples * np.dot(X.T, dZ_1)\n",
    "    db_1 = 1/n_samples * np.sum(dZ_1, axis=0, keepdims=True)\n",
    "\n",
    "    gradient_dict = {'dw_1': dw_1, 'db_1': db_1, 'dw_2': dw_2, 'db_2': db_2}\n",
    "\n",
    "    return gradient_dict\n",
    "\n",
    "  def update_weights(self, gradient_dict):\n",
    "    self.w_1 -= self.lr * gradient_dict['dw_1']\n",
    "    self.b_1 -= self.lr * gradient_dict['db_1']\n",
    "    \n",
    "    self.w_2 -= self.lr * gradient_dict['dw_2']\n",
    "    self.b_2 -= self.lr * gradient_dict['db_2']\n",
    "\n",
    "\n",
    "def test():\n",
    "  # общая проверерка работы forward & backward\n",
    "  train_dataloader = BatchLoader(x_train, y_train, 2)\n",
    "  X, y = train_dataloader()\n",
    "  neural_net = NeuralNet(input_size=X.shape[1], \n",
    "                         hidden_size=15, \n",
    "                         output_size=y.shape[1], lr=0.1)\n",
    "  predictions = neural_net.forward(X)\n",
    "  loss = neural_net.loss(predictions, y)\n",
    "  gradient_dict = neural_net.backward(X, predictions, y)\n",
    "  neural_net.update_weights(gradient_dict)\n",
    "  print(loss)\n",
    "\n",
    "test()"
   ]
  },
  {
   "cell_type": "markdown",
   "metadata": {
    "id": "OTe4n1fkn0Id"
   },
   "source": [
    "### Gradient check\n",
    "\n",
    "Построение backward - сложный алгоритм, можно легко ошибиться. Для проверки нашего решения проверим, как наше аналитическое нахождение градиента соотносится с численным. Для этого реализуем еще 2 функции - перевода из словаря весов в единый вектор параметров и обратно."
   ]
  },
  {
   "cell_type": "code",
   "execution_count": 10,
   "metadata": {
    "colab": {
     "base_uri": "https://localhost:8080/"
    },
    "executionInfo": {
     "elapsed": 3,
     "status": "ok",
     "timestamp": 1645031435530,
     "user": {
      "displayName": "Олег Дмитриевич Сомов",
      "photoUrl": "https://lh3.googleusercontent.com/a/default-user=s64",
      "userId": "03877505905935419968"
     },
     "user_tz": -180
    },
    "id": "dbAiTMVnCjEW",
    "outputId": "8daf835e-9e9a-49ee-910e-072d85018312"
   },
   "outputs": [
    {
     "name": "stdout",
     "output_type": "stream",
     "text": [
      "{'w_1': array([[0.18640541, 0.56050873, 0.86618892],\n",
      "       [0.88280568, 0.06994401, 0.41910509]]), 'b_1': array([[0.58300648, 0.1470699 , 0.76543222]]), 'w_2': array([[0.74423526, 0.90334101],\n",
      "       [0.00848601, 0.21668424],\n",
      "       [0.82718671, 0.67058005]]), 'b_2': array([[0.89438985, 0.05717965]])}\n",
      "[0.18640541 0.56050873 0.86618892 0.88280568 0.06994401 0.41910509\n",
      " 0.58300648 0.1470699  0.76543222 0.74423526 0.90334101 0.00848601\n",
      " 0.21668424 0.82718671 0.67058005 0.89438985 0.05717965]\n",
      "Dicts equal!\n"
     ]
    }
   ],
   "source": [
    "from collections import OrderedDict\n",
    "\n",
    "def vector2dict(input_vector, initial_tensor_shapes_dict):\n",
    "  slice_start_idx = 0\n",
    "  result_dict = dict()\n",
    "  for key in initial_tensor_shapes_dict:\n",
    "    dim_1, dim_2 = initial_tensor_shapes_dict[key][0], initial_tensor_shapes_dict[key][1]\n",
    "    slice_end_idx = slice_start_idx + (dim_1*dim_2)\n",
    "    vector_slice = input_vector[slice_start_idx: slice_end_idx]\n",
    "    matrix = vector_slice.reshape(dim_1, dim_2)\n",
    "    result_dict[key] = matrix\n",
    "    slice_start_idx = slice_end_idx\n",
    "  return result_dict\n",
    "\n",
    "\n",
    "def dict2vector(input_dict):\n",
    "  key2shape_dict = OrderedDict()\n",
    "  vector_list = []\n",
    "  for key in input_dict:\n",
    "    vector, shape  = input_dict[key].flatten(), input_dict[key].shape\n",
    "    key2shape_dict[key] = shape\n",
    "    vector_list.append(vector)\n",
    "  result_vector = np.concatenate(vector_list, axis=0)\n",
    "  return result_vector, key2shape_dict\n",
    "\n",
    "\n",
    "def test():\n",
    "  initial_dict = {\n",
    "      'w_1': np.random.rand(2,3),\n",
    "      'b_1': np.random.rand(1,3),\n",
    "      'w_2': np.random.rand(3,2),\n",
    "      'b_2': np.random.rand(1,2)\n",
    "  }\n",
    "  print(initial_dict)\n",
    "  dict_vector, shape_dict = dict2vector(initial_dict)\n",
    "  print(dict_vector)\n",
    "  result_dict = vector2dict(dict_vector, shape_dict)\n",
    "  for key in initial_dict:\n",
    "    if (initial_dict[key] == result_dict[key]).all() == False:\n",
    "      print('Dicts not equal!')\n",
    "      return\n",
    "  print('Dicts equal!')\n",
    "\n",
    "\n",
    "test()"
   ]
  },
  {
   "cell_type": "code",
   "execution_count": 11,
   "metadata": {
    "colab": {
     "base_uri": "https://localhost:8080/"
    },
    "executionInfo": {
     "elapsed": 3229,
     "status": "ok",
     "timestamp": 1645029437929,
     "user": {
      "displayName": "Олег Дмитриевич Сомов",
      "photoUrl": "https://lh3.googleusercontent.com/a/default-user=s64",
      "userId": "03877505905935419968"
     },
     "user_tz": -180
    },
    "id": "4TUMtP3rp3lH",
    "outputId": "6ca89a1a-ac8c-4cd5-e2dc-4c0696b377c2"
   },
   "outputs": [
    {
     "name": "stdout",
     "output_type": "stream",
     "text": [
      "4.214614850976356 4.214614847477485\n",
      "Backprop is correct!\n"
     ]
    },
    {
     "data": {
      "text/plain": [
       "1.0809590607356629e-08"
      ]
     },
     "execution_count": 11,
     "metadata": {},
     "output_type": "execute_result"
    }
   ],
   "source": [
    "def gradient_check(X, y, epsilon=1e-7):\n",
    "  #получаем параметры модели\n",
    "  neural_net = NeuralNet(input_size=X.shape[1], \n",
    "                         hidden_size=15, \n",
    "                         output_size=y.shape[1], lr=0.01)\n",
    "  #преобразовываем словарь весов в вектор\n",
    "  neural_net_params_dict = neural_net.get_weights()\n",
    "  neural_net_params_vector, neural_net_params_shapes_dict = dict2vector(neural_net_params_dict)\n",
    "  params_amount = neural_net_params_vector.shape[0]\n",
    "  #инициализируем массив для рассчета численного градиента\n",
    "  gradient_approx_vector = np.zeros((params_amount,))\n",
    "\n",
    "  for i in range(params_amount):\n",
    "    #рассчет J_plus для параметра i из neural_net_params_vector\n",
    "    params_plus_vector = np.copy(neural_net_params_vector)\n",
    "    # к параметру сети i прибавляем epsilon -> преобразуем вектор обратно в словарь -> инициализируем сеть с новым параметром\n",
    "    params_plus_vector[i] += epsilon\n",
    "    params_plus_dict = vector2dict(params_plus_vector, neural_net_params_shapes_dict)\n",
    "    neural_net.set_weights(params_plus_dict)\n",
    "    # рассчитываем J_plus\n",
    "    y_plus = neural_net.forward(X)\n",
    "    J_plus = neural_net.loss(y_plus, y)\n",
    "\n",
    "    #рассчет J_minus для параметра i из neural_net_params_vector\n",
    "    params_minus_vector = np.copy(neural_net_params_vector)\n",
    "    # у параметра сети i вычитаем epsilon -> преобразуем вектор обратно в словарь -> инициализируем сеть с новым параметром\n",
    "    params_minus_vector[i] -= epsilon\n",
    "    params_minus_dict = vector2dict(params_minus_vector, neural_net_params_shapes_dict)\n",
    "    neural_net.set_weights(params_minus_dict)\n",
    "    # рассчитываем J_minus\n",
    "    y_minus = neural_net.forward(X)\n",
    "    J_minus = neural_net.loss(y_minus, y)\n",
    "    # рассчитываем приближенного значение численного градиента для параметра i\n",
    "    gradient_approx_vector[i] = (J_plus - J_minus) / (2 * epsilon)\n",
    "\n",
    "  # возвратим исходное состояние весов для рассчета реализиованного градиента\n",
    "  neural_net.set_weights(neural_net_params_dict)\n",
    "  # посчитаем словарь градиентов\n",
    "  y_pred = neural_net.forward(X)\n",
    "  gradient_dict = neural_net.backward(X, y_pred, y)\n",
    "  # превратим словарь в вектор\n",
    "  gradient_vector, _ = dict2vector(gradient_dict)\n",
    "\n",
    "  #рассчитаем итоговое значение\n",
    "  print(np.linalg.norm(gradient_approx_vector), np.linalg.norm(gradient_vector))\n",
    "\n",
    "  numerator = np.linalg.norm(gradient_approx_vector - gradient_vector)\n",
    "  denominator = np.linalg.norm(gradient_approx_vector) + np.linalg.norm(gradient_vector)\n",
    "  diff = numerator / denominator\n",
    "\n",
    "  if diff > epsilon:\n",
    "    print('Backprop is incorrect!')\n",
    "  else:\n",
    "    print('Backprop is correct!')\n",
    "  return diff\n",
    "\n",
    "\n",
    "batch_loader = BatchLoader(x_train, y_train, 16)\n",
    "x, y = batch_loader()\n",
    "gradient_check(x, y, 1e-7)"
   ]
  },
  {
   "cell_type": "code",
   "execution_count": 12,
   "metadata": {
    "colab": {
     "base_uri": "https://localhost:8080/"
    },
    "executionInfo": {
     "elapsed": 262,
     "status": "ok",
     "timestamp": 1645031612957,
     "user": {
      "displayName": "Олег Дмитриевич Сомов",
      "photoUrl": "https://lh3.googleusercontent.com/a/default-user=s64",
      "userId": "03877505905935419968"
     },
     "user_tz": -180
    },
    "id": "BslUT9LwmojJ",
    "outputId": "623d1f10-0ecd-4f34-f96f-7da3c05a5d30"
   },
   "outputs": [
    {
     "name": "stdout",
     "output_type": "stream",
     "text": [
      "0.0\n"
     ]
    }
   ],
   "source": [
    "def eval_acc(y_pred, y_true):\n",
    "    pred_label = np.argmax(y_pred, axis=1)\n",
    "    true_label = np.argmax(y_true, axis=1)\n",
    "    accuracy = (pred_label == true_label).mean()\n",
    "    return accuracy\n",
    "\n",
    "def test():\n",
    "  train_dataloader = BatchLoader(x_train, y_train, 4)\n",
    "  data_b, target_b = train_dataloader()\n",
    "  pred = np.random.rand(target_b.shape[0], target_b.shape[1])\n",
    "  print(eval_acc(pred, target_b))\n",
    "\n",
    "test()"
   ]
  },
  {
   "cell_type": "code",
   "execution_count": null,
   "metadata": {
    "id": "ArTCx5V5rjLM"
   },
   "outputs": [],
   "source": []
  },
  {
   "cell_type": "markdown",
   "metadata": {
    "id": "MWb_fh0HrjdI"
   },
   "source": [
    "#### Обучение модели\n",
    "\n",
    "Обычно весь цикл обучения пишут в одном модуле, а ключевые компоненты выносят в методы класса нейронной сети и оптимизатора.\n",
    "\n",
    "При обучении старайтесь визуализовать и логгировать процесс обучения - так проще дебажить."
   ]
  },
  {
   "cell_type": "code",
   "execution_count": 13,
   "metadata": {
    "colab": {
     "base_uri": "https://localhost:8080/",
     "height": 607
    },
    "executionInfo": {
     "elapsed": 14134,
     "status": "ok",
     "timestamp": 1645031724273,
     "user": {
      "displayName": "Олег Дмитриевич Сомов",
      "photoUrl": "https://lh3.googleusercontent.com/a/default-user=s64",
      "userId": "03877505905935419968"
     },
     "user_tz": -180
    },
    "id": "DIX9NA0AlQ47",
    "outputId": "62433f73-4bff-4baa-b91e-a2e10215fcc2"
   },
   "outputs": [
    {
     "data": {
      "image/png": "[encoded data removed]",
      "text/plain": [
       "<Figure size 2000x1000 with 2 Axes>"
      ]
     },
     "metadata": {},
     "output_type": "display_data"
    }
   ],
   "source": [
    "EPOCH_NUMBER = 10\n",
    "BATCH_SIZE = 16\n",
    "HIDDEN_SIZE = 16\n",
    "LEARNING_RATE = 0.1\n",
    "\n",
    "train_dataloader = BatchLoader(x_train, y_train, BATCH_SIZE)\n",
    "val_dataloader = BatchLoader(x_val, y_val, BATCH_SIZE)\n",
    "\n",
    "ewma = lambda x, span: pd.DataFrame({'x': x})['x'].ewm(span=span).mean().values\n",
    "\n",
    "neural_net = NeuralNet(input_size=train_dataloader.data.shape[1], \n",
    "                         hidden_size=HIDDEN_SIZE, \n",
    "                         output_size=train_dataloader.target.shape[1], \n",
    "                       lr=LEARNING_RATE)\n",
    "\n",
    "\n",
    "train_epoch_loss_array, train_epoch_acc_array = [], []\n",
    "val_epoch_loss_array, val_epoch_acc_array = [], []\n",
    "\n",
    "for epoch in range(EPOCH_NUMBER):\n",
    "  train_epoch_loss, train_epoch_acc = 0, 0\n",
    "  for _ in range(len(train_dataloader)):\n",
    "    x_batch, y_batch = train_dataloader()\n",
    "    # forward pass -> backward pass -> weights update \n",
    "    y_batch_pred = neural_net.forward(x_batch)\n",
    "    train_batch_loss = neural_net.loss(y_batch_pred, y_batch)\n",
    "    gradient_dict = neural_net.backward(x_batch, y_batch_pred, y_batch)\n",
    "    neural_net.update_weights(gradient_dict)\n",
    "\n",
    "    train_epoch_loss += train_batch_loss\n",
    "    train_epoch_acc += eval_acc(y_batch_pred, y_batch)    \n",
    "\n",
    "  train_epoch_loss_array.append(train_epoch_loss / len(train_dataloader))\n",
    "  train_epoch_acc_array.append(train_epoch_acc / len(train_dataloader))\n",
    "\n",
    "  val_epoch_loss, val_epoch_acc = 0, 0\n",
    "  for _ in range(len(val_dataloader)):\n",
    "    x_batch, y_batch = val_dataloader()\n",
    "    y_batch_pred = neural_net.forward(x_batch)\n",
    "    val_batch_loss = neural_net.loss(y_batch_pred, y_batch)\n",
    "\n",
    "    val_epoch_loss += val_batch_loss\n",
    "    val_epoch_acc += eval_acc(y_batch_pred, y_batch)\n",
    "  val_epoch_loss_array.append(val_epoch_loss / len(val_dataloader))\n",
    "  val_epoch_acc_array.append(val_epoch_acc / len(val_dataloader))\n",
    "\n",
    "\n",
    "  clear_output(True)\n",
    "  plt.figure(figsize=[20, 10])\n",
    "  #plot train loss\n",
    "  plt.subplot(1, 2, 1), plt.title('Train Loss'), plt.grid()\n",
    "  plt.scatter(np.arange(len(train_epoch_loss_array)), train_epoch_loss_array, alpha=0.1, label='train loss')\n",
    "  plt.plot(ewma(train_epoch_loss_array, span=10))\n",
    "  plt.legend()\n",
    "  #plot train acc\n",
    "  plt.subplot(1, 2, 2), plt.title('Train Acc'), plt.grid()\n",
    "  plt.scatter(np.arange(len(train_epoch_acc_array)), train_epoch_acc_array, alpha=0.1, label='train acc')\n",
    "  plt.plot(ewma(train_epoch_acc_array, span=10))\n",
    "  plt.legend()\n",
    "  #plot val loss\n",
    "  plt.subplot(1, 2, 1), plt.title('Val Loss'), plt.grid()\n",
    "  plt.scatter(np.arange(len(val_epoch_loss_array)), val_epoch_loss_array, alpha=0.1, label='val loss')\n",
    "  plt.plot(ewma(val_epoch_loss_array, span=10))\n",
    "  plt.legend()\n",
    "  #plot val acc\n",
    "  plt.subplot(1, 2, 2), plt.title('Val Acc'), plt.grid()\n",
    "  plt.scatter(np.arange(len(val_epoch_acc_array)), val_epoch_acc_array, alpha=0.1, label='val acc')\n",
    "  plt.plot(ewma(val_epoch_acc_array, span=10))\n",
    "  plt.legend()\n",
    "  plt.show()"
   ]
  },
  {
   "cell_type": "code",
   "execution_count": null,
   "metadata": {
    "id": "V1cjR8nfrwqm"
   },
   "outputs": [],
   "source": []
  },
  {
   "cell_type": "markdown",
   "metadata": {
    "id": "eAlB_cRYrxAU"
   },
   "source": [
    "#### Валидация\n",
    "\n",
    "Не забываем проверить качество работы модели."
   ]
  },
  {
   "cell_type": "code",
   "execution_count": 14,
   "metadata": {
    "colab": {
     "base_uri": "https://localhost:8080/"
    },
    "executionInfo": {
     "elapsed": 259,
     "status": "ok",
     "timestamp": 1645031742788,
     "user": {
      "displayName": "Олег Дмитриевич Сомов",
      "photoUrl": "https://lh3.googleusercontent.com/a/default-user=s64",
      "userId": "03877505905935419968"
     },
     "user_tz": -180
    },
    "id": "eXils6AWKYDB",
    "outputId": "53d57d96-c670-4fbf-f877-40bbdf696d65"
   },
   "outputs": [
    {
     "name": "stdout",
     "output_type": "stream",
     "text": [
      "Result:  0.8\n"
     ]
    }
   ],
   "source": [
    "test_dataloader = BatchLoader(x_test, y_test, BATCH_SIZE)\n",
    "\n",
    "predictions_list = []\n",
    "labels_list = []\n",
    "\n",
    "for _ in range(len(test_dataloader)):\n",
    "  y_batch_pred = neural_net.forward(x_batch)\n",
    "\n",
    "  preds = np.argmax(y_batch_pred, axis=1)\n",
    "  labels = np.argmax(y_batch, axis=1)\n",
    "\n",
    "  predictions_list.append(preds)\n",
    "  labels_list.append(labels)\n",
    "\n",
    "prediction = np.concatenate(predictions_list)\n",
    "label = np.concatenate(labels_list)\n",
    "\n",
    "result = (prediction == label).mean()\n",
    "\n",
    "print('Result: ', result)"
   ]
  },
  {
   "cell_type": "code",
   "execution_count": null,
   "metadata": {
    "id": "plmQtVpkTQOx"
   },
   "outputs": [],
   "source": []
  }
 ],
 "metadata": {
  "colab": {
   "authorship_tag": "ABX9TyNhD6SjhnmvwS9EV3baoVlk",
   "collapsed_sections": [],
   "name": "Numpy Neural Network implementation.ipynb",
   "provenance": []
  },
  "kernelspec": {
   "display_name": "Python 3 (ipykernel)",
   "language": "python",
   "name": "python3"
  },
  "language_info": {
   "codemirror_mode": {
    "name": "ipython",
    "version": 3
   },
   "file_extension": ".py",
   "mimetype": "text/x-python",
   "name": "python",
   "nbconvert_exporter": "python",
   "pygments_lexer": "ipython3",
   "version": "3.9.7"
  }
 },
 "nbformat": 4,
 "nbformat_minor": 4
}